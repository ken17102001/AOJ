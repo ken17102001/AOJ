
def fizzbuzz(n):
  for i in range(1, n + 1):
    if i % 15 == 0:
      print("FizzBuzz")
    elif i % 3 == 0:
      print("Fizz")
    elif i % 5 == 0:
      print("Buzz")
    else:
      print(i)

# 1から30までのFizzBuzzを実行
fizzbuzz(30)
